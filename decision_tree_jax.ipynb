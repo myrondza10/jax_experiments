{
  "nbformat": 4,
  "nbformat_minor": 0,
  "metadata": {
    "colab": {
      "provenance": [],
      "authorship_tag": "ABX9TyP75oaj5RfWdTSuZWh3TKDz",
      "include_colab_link": true
    },
    "kernelspec": {
      "name": "python3",
      "display_name": "Python 3"
    },
    "language_info": {
      "name": "python"
    }
  },
  "cells": [
    {
      "cell_type": "markdown",
      "metadata": {
        "id": "view-in-github",
        "colab_type": "text"
      },
      "source": [
        "<a href=\"https://colab.research.google.com/github/myrondza10/jax_experiments/blob/main/decision_tree_jax.ipynb\" target=\"_parent\"><img src=\"https://colab.research.google.com/assets/colab-badge.svg\" alt=\"Open In Colab\"/></a>"
      ]
    },
    {
      "cell_type": "code",
      "execution_count": 22,
      "metadata": {
        "id": "ttmoIZrVUMFw"
      },
      "outputs": [],
      "source": [
        "# Import required libraries\n",
        "\n",
        "from jax import grad, jit, vmap\n",
        "import jax.numpy as jnp\n",
        "\n",
        "# Create a Class for the Decision Tree Algorithm\n",
        "\n",
        "class DecisionTreeJAX():\n",
        "    \"\"\"\n",
        "    Decision Tree using JAX.\n",
        "\n",
        "\n",
        "\n",
        "    \"\"\"\n",
        "\n",
        "    def __init__(\n",
        "        self,\n",
        "        max_depth=None\n",
        "        ):\n",
        "        self.max_depth = max_depth\n",
        "\n",
        "    def _build_tree(self, X, y, depth):\n",
        "          if self.max_depth is not None and depth >= self.max_depth:\n",
        "              return self._create_leaf_node(y)\n",
        "\n",
        "          best_feature, best_threshold = self._find_best_split(X, y)\n",
        "          if best_feature is None:\n",
        "              return self._create_leaf_node(y)\n",
        "\n",
        "          left_indices = X[:, best_feature] <= best_threshold\n",
        "          right_indices = ~left_indices\n",
        "\n",
        "          left_subtree = self._build_tree(X[left_indices], y[left_indices], depth + 1)\n",
        "          right_subtree = self._build_tree(X[right_indices], y[right_indices], depth + 1)\n",
        "\n",
        "          return {\n",
        "              'feature': best_feature,\n",
        "              'threshold': best_threshold,\n",
        "              'left': left_subtree,\n",
        "              'right': right_subtree\n",
        "          }\n",
        "\n",
        "    def _find_best_split(self, X, y):\n",
        "          best_gini = float('inf')\n",
        "          best_feature = None\n",
        "          best_threshold = None\n",
        "\n",
        "          for feature in range(X.shape[1]):\n",
        "              unique_values = jnp.unique(X[:, feature])\n",
        "              thresholds = (unique_values[:-1] + unique_values[1:]) / 2\n",
        "\n",
        "              for threshold in thresholds:\n",
        "                  left_indices = X[:, feature] <= threshold\n",
        "                  right_indices = ~left_indices\n",
        "\n",
        "                  gini = self._gini_index(y[left_indices]) * len(y[left_indices]) / len(y) \\\n",
        "                          + self._gini_index(y[right_indices]) * len(y[right_indices]) / len(y)\n",
        "\n",
        "                  if gini < best_gini:\n",
        "                      best_gini = gini\n",
        "                      best_feature = feature\n",
        "                      best_threshold = threshold\n",
        "\n",
        "          return best_feature, best_threshold\n",
        "\n",
        "    def _gini_index(self, y):\n",
        "          _, counts = jnp.unique(y, return_counts=True)\n",
        "          probabilities = counts / len(y)\n",
        "          return 1 - jnp.sum(probabilities ** 2)\n",
        "\n",
        "    def _create_leaf_node(self, y):\n",
        "        unique_classes, counts = jnp.unique(y, return_counts=True)\n",
        "        unique_classes_list = unique_classes.tolist()\n",
        "        return {'class_counts': dict(zip(unique_classes_list, counts))}\n",
        "\n",
        "    def _traverse_tree(self, x, node):\n",
        "          if 'class_counts' in node:\n",
        "              return max(node['class_counts'], key=node['class_counts'].get)\n",
        "\n",
        "          if x[node['feature']] <= node['threshold']:\n",
        "              return self._traverse_tree(x, node['left'])\n",
        "          else:\n",
        "              return self._traverse_tree(x, node['right'])\n",
        "\n",
        "    def fit(self, X, y):\n",
        "          self.tree = self._build_tree(X, y, 0)\n",
        "\n",
        "    def predict(self, X):\n",
        "          return vmap(self._traverse_tree)(X, self.tree)"
      ]
    },
    {
      "cell_type": "code",
      "source": [
        "X = jnp.array([[1, 2], [2, 3], [3, 4], [4, 5], [5, 6]])\n",
        "y = jnp.array([0, 0, 1, 1, 1])"
      ],
      "metadata": {
        "id": "VWARtrbAWa63"
      },
      "execution_count": 23,
      "outputs": []
    },
    {
      "cell_type": "code",
      "source": [
        "dtree_jax = DecisionTreeJAX(max_depth=5)\n",
        "dtree_jax.fit(X, y)"
      ],
      "metadata": {
        "id": "UJVwd7kwWFOL"
      },
      "execution_count": 28,
      "outputs": []
    },
    {
      "cell_type": "code",
      "source": [],
      "metadata": {
        "id": "PcGPe_n1Y0l1"
      },
      "execution_count": null,
      "outputs": []
    }
  ]
}